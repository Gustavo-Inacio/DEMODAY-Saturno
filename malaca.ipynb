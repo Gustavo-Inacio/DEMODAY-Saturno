{
  "nbformat": 4,
  "nbformat_minor": 0,
  "metadata": {
    "colab": {
      "name": "Supermercado_Previsão_de_Vendas (1).ipynb",
      "provenance": [],
      "collapsed_sections": []
    },
    "kernelspec": {
      "name": "python3",
      "display_name": "Python 3"
    }
  },
  "cells": [
    {
      "cell_type": "markdown",
      "metadata": {
        "id": "P3AjUpDFGDPd"
      },
      "source": [
        "<strong> 1° Importação das Bibliotecas </strong>"
      ]
    },
    {
      "cell_type": "code",
      "metadata": {
        "id": "o_aaPZndrKrQ"
      },
      "source": [
        "import pandas as pd\n",
        "from sklearn.linear_model import LinearRegression\n",
        "from sklearn.metrics import mean_squared_error\n",
        "from sklearn.ensemble import  RandomForestRegressor\n",
        "from sklearn.model_selection import train_test_split"
      ],
      "execution_count": null,
      "outputs": []
    },
    {
      "cell_type": "markdown",
      "metadata": {
        "id": "G-10yjHDNOjV"
      },
      "source": [
        "<strong>2° Importação das bases de dados</strong>"
      ]
    },
    {
      "cell_type": "code",
      "metadata": {
        "id": "yihnRBP58WXM"
      },
      "source": [
        "train_data = pd.read_csv('train.csv')\n",
        "test_data = pd.read_csv('test.csv')"
      ],
      "execution_count": null,
      "outputs": []
    },
    {
      "cell_type": "markdown",
      "metadata": {
        "id": "kVmRdlLINjlz"
      },
      "source": [
        "<strong>3° Pré-processamento dos dados</strong>"
      ]
    },
    {
      "cell_type": "code",
      "metadata": {
        "id": "UyygP1_-rslx"
      },
      "source": [
        "#treino\n",
        "train_x = train_data.drop(columns=['Item_Outlet_Sales'],axis=1)\n",
        "train_y = train_data['Item_Outlet_Sales']\n",
        "\n",
        "#teste\n",
        "test_x = test_data.drop(columns=['Item_Outlet_Sales'],axis=1)\n",
        "test_y = test_data['Item_Outlet_Sales']"
      ],
      "execution_count": null,
      "outputs": []
    },
    {
      "cell_type": "markdown",
      "metadata": {
        "id": "OdQWlVHrGhuV"
      },
      "source": [
        "<strong>Machine Learning</strong>"
      ]
    },
    {
      "cell_type": "markdown",
      "metadata": {
        "id": "M-UMxKo0OKCd"
      },
      "source": [
        "<strong>4° Criando modelo de previsão por regressão linear</strong>"
      ]
    },
    {
      "cell_type": "code",
      "metadata": {
        "id": "hGiqrS4p_Ypy"
      },
      "source": [
        "model_L = LinearRegression()"
      ],
      "execution_count": null,
      "outputs": []
    },
    {
      "cell_type": "markdown",
      "metadata": {
        "id": "EXNYnFIuOgAA"
      },
      "source": [
        "<strong>5° Treinando o modelo com os dados de treino</strong>"
      ]
    },
    {
      "cell_type": "code",
      "metadata": {
        "id": "qMK-s5FiO-oL"
      },
      "source": [
        "model_L.fit(train_x,train_y)"
      ],
      "execution_count": null,
      "outputs": []
    },
    {
      "cell_type": "markdown",
      "metadata": {
        "id": "Km-EaepyPCAQ"
      },
      "source": [
        "<strong>6° Fazendo previsões</strong>"
      ]
    },
    {
      "cell_type": "code",
      "metadata": {
        "id": "s6mDWFx-POP9"
      },
      "source": [
        "# Fazendo Previsões com os dados de treino \n",
        "predict_train = model_L.predict(train_x)\n",
        "print('\\nItem_Outlet_Sales on training data',predict_train) "
      ],
      "execution_count": null,
      "outputs": []
    },
    {
      "cell_type": "code",
      "metadata": {
        "id": "pnw7uu8LPbDn"
      },
      "source": [
        "# Calculando o RMSE Root Mean Squared Error - nos dados de treino\n",
        "rmse_train = mean_squared_error(train_y,predict_train)**(0.5)\n",
        "print('\\nRMSE on train dataset : ', rmse_train)"
      ],
      "execution_count": null,
      "outputs": []
    },
    {
      "cell_type": "code",
      "metadata": {
        "id": "0v4m6lIasQOe"
      },
      "source": [
        "# Fazendo Previsões com os dados de teste\n",
        "predict_test = model_L.predict(test_x)\n",
        "print('\\nItem_Outlet_Sales on test data',predict_test) "
      ],
      "execution_count": null,
      "outputs": []
    },
    {
      "cell_type": "code",
      "metadata": {
        "id": "YAdKqTJKPdpr"
      },
      "source": [
        "# Calculando o RMSE Root Mean Squared Error - nos dados de teste\n",
        "rmse_test = mean_squared_error(test_y,predict_test)**(0.5)\n",
        "print('\\nRMSE on test dataset : ', rmse_test)"
      ],
      "execution_count": null,
      "outputs": []
    },
    {
      "cell_type": "markdown",
      "metadata": {
        "id": "N1nvcTDwPmMf"
      },
      "source": [
        "<strong>7° Criando modelo de previsão melhorado</strong>"
      ]
    },
    {
      "cell_type": "code",
      "metadata": {
        "id": "IaJibMieRMzU"
      },
      "source": [
        "model_RFR = RandomForestRegressor(max_depth=5)"
      ],
      "execution_count": null,
      "outputs": []
    },
    {
      "cell_type": "markdown",
      "metadata": {
        "id": "jAMuGn9NQGYj"
      },
      "source": [
        "<strong>8° Treinando o novo modelo</strong>"
      ]
    },
    {
      "cell_type": "code",
      "metadata": {
        "id": "rk7C_HxZQQyH"
      },
      "source": [
        "model_RFR.fit(train_x, train_y)"
      ],
      "execution_count": null,
      "outputs": []
    },
    {
      "cell_type": "markdown",
      "metadata": {
        "id": "n6QE_eKMQW0N"
      },
      "source": [
        "<strong>9° Testes de precisão</strong>"
      ]
    },
    {
      "cell_type": "code",
      "metadata": {
        "id": "cpeZpe6CQh3q"
      },
      "source": [
        "# Fazendo previsões com os dados de treino e teste\n",
        "predict_train = model_RFR.predict(train_x)\n",
        "predict_test = model_RFR.predict(test_x)\n",
        "\n",
        "# Calculando o RMSE Root Mean Squared Error\n",
        "print('RMSE on train data: ', mean_squared_error(train_y, predict_train)**(0.5))\n",
        "print('RMSE on test data: ',  mean_squared_error(test_y, predict_test)**(0.5))"
      ],
      "execution_count": null,
      "outputs": []
    },
    {
      "cell_type": "markdown",
      "metadata": {
        "id": "C3OTUgVCGu6H"
      },
      "source": [
        "<strong>10° Previsão final</strong>"
      ]
    },
    {
      "cell_type": "code",
      "metadata": {
        "id": "Ji17yb19ymlR"
      },
      "source": [
        "predict_test = model_RFR.predict(test_x)\n",
        "print('\\nItem_Outlet_Sales on test data',predict_test) "
      ],
      "execution_count": null,
      "outputs": []
    }
  ]
}